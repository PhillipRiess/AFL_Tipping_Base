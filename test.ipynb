{
 "cells": [
  {
   "cell_type": "code",
   "execution_count": 5,
   "metadata": {},
   "outputs": [],
   "source": [
    "import pandas as pd\n",
    "\n",
    "from pyAFL.seasons.models import Season\n",
    "\n",
    "from bs4 import BeautifulSoup\n",
    "from datetime import datetime\n",
    "import requests\n",
    "\n",
    "pd.set_option('display.max_columns', None)\n",
    "\n",
    "# Functions for data preperation\n",
    "\n",
    "from functions.add_leading_zero import add_leading_zero\n",
    "from functions.get_season_stats import get_season_stats\n",
    "from functions.get_table_hist import get_table_hist"
   ]
  },
  {
   "cell_type": "code",
   "execution_count": 6,
   "metadata": {},
   "outputs": [
    {
     "name": "stdout",
     "output_type": "stream",
     "text": [
      "Round 1 Season 2022 is completed\n",
      "Round 2 Season 2022 is completed\n",
      "Round 3 Season 2022 is completed\n",
      "Round 4 Season 2022 is completed\n",
      "Round 5 Season 2022 is completed\n",
      "Round 6 Season 2022 is completed\n",
      "Round 7 Season 2022 is completed\n",
      "Round 8 Season 2022 is completed\n",
      "Round 9 Season 2022 is completed\n",
      "Round 10 Season 2022 is completed\n",
      "Round 11 Season 2022 is completed\n",
      "Round 12 Season 2022 is completed\n",
      "Round 13 Season 2022 is completed\n",
      "Round 14 Season 2022 is completed\n",
      "Round 15 Season 2022 is completed\n",
      "Round 16 Season 2022 is completed\n",
      "Round 17 Season 2022 is completed\n",
      "Round 18 Season 2022 is completed\n",
      "Round 19 Season 2022 is completed\n",
      "Round 20 Season 2022 is completed\n",
      "Round 21 Season 2022 is completed\n",
      "Round 22 Season 2022 is completed\n",
      "Round 23 Season 2022 is completed\n"
     ]
    }
   ],
   "source": [
    "table_hist = get_table_hist(start_year=2022, end_year=2022)"
   ]
  },
  {
   "cell_type": "code",
   "execution_count": 4,
   "metadata": {},
   "outputs": [
    {
     "data": {
      "text/plain": [
       "'09'"
      ]
     },
     "execution_count": 4,
     "metadata": {},
     "output_type": "execute_result"
    }
   ],
   "source": []
  },
  {
   "cell_type": "code",
   "execution_count": null,
   "metadata": {},
   "outputs": [],
   "source": []
  }
 ],
 "metadata": {
  "kernelspec": {
   "display_name": "Python 3",
   "language": "python",
   "name": "python3"
  },
  "language_info": {
   "codemirror_mode": {
    "name": "ipython",
    "version": 3
   },
   "file_extension": ".py",
   "mimetype": "text/x-python",
   "name": "python",
   "nbconvert_exporter": "python",
   "pygments_lexer": "ipython3",
   "version": "3.9.13"
  },
  "orig_nbformat": 4,
  "vscode": {
   "interpreter": {
    "hash": "c0b0d858025d45475d5a88bf062ad87003641f7177835e539fc583c7b5ef2bbb"
   }
  }
 },
 "nbformat": 4,
 "nbformat_minor": 2
}
