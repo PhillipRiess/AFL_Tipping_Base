{
 "cells": [
  {
   "attachments": {},
   "cell_type": "markdown",
   "metadata": {},
   "source": [
    "# **Notebook Information**\n",
    "\n",
    "The following notebook has been setup to give you quick access to the next round of games so you can run model.predict against. Some suggestions/information for using this notebook:<br>\n",
    "<br>\n",
    "- The following works only for the standard columns from the Footy_Tipping_starter.ipynb, if you created additional features that you used for training you will need to add them here <br>\n",
    "- I would recommend saving you prediction model as a .pkl file, then use joblib to open it. "
   ]
  },
  {
   "attachments": {},
   "cell_type": "markdown",
   "metadata": {},
   "source": [
    "# **Libraries**"
   ]
  },
  {
   "cell_type": "code",
   "execution_count": null,
   "metadata": {},
   "outputs": [],
   "source": [
    "import pandas as pd\n",
    "\n",
    "from datetime import datetime\n",
    "import requests\n",
    "\n",
    "pd.set_option('display.max_columns', None)\n",
    "\n",
    "# Functions for data preperation\n",
    "from functions.add_leading_zero import add_leading_zero\n",
    "from functions.get_season_stats import get_season_stats\n",
    "from functions.get_table_hist import get_table_hist\n",
    "from functions.clean_table_data import clean_table_data\n",
    "from functions.clean_games_data import clean_games_data\n",
    "from functions.get_next_round import get_next_round\n",
    "from functions.get_next_round_bk import get_next_round_bk\n",
    "\n",
    "from requests.packages.urllib3.util.retry import Retry"
   ]
  },
  {
   "attachments": {},
   "cell_type": "markdown",
   "metadata": {},
   "source": [
    "# **Load Data**"
   ]
  },
  {
   "cell_type": "code",
   "execution_count": null,
   "metadata": {},
   "outputs": [],
   "source": [
    "# Team Code data for joins between datasets\n",
    "data = {'Team': ['Adelaide', 'Brisbane Lions', 'Brisbane Bears', 'Carlton', 'Collingwood', 'Essendon', 'Fitzroy', 'Fremantle', 'Geelong', 'Gold Coast', 'Greater Western Sydney', 'Hawthorn', 'Melbourne', 'North Melbourne', 'Port Adelaide', 'Richmond', 'St Kilda', 'Sydney', 'University', 'West Coast', 'Western Bulldogs'],\n",
    "        'Code': [1, 19, 2, 3, 4, 5, 6, 8, 9, 20, 21, 10, 11, 12, 13, 14, 15, 16, 17, 18, 7],\n",
    "        'Abv': ['AD', 'BL', 'BB', 'CA', 'CW', 'ES', 'FI', 'FR', 'GE', 'GC', 'GW', 'HW', 'ME', 'NM', 'PA', 'RI', 'SK', 'SY', 'UN', 'WC', 'WB']}\n",
    "\n",
    "team_code = pd.DataFrame(data)\n",
    "team_code['Code'] = team_code['Code'].apply(add_leading_zero)"
   ]
  },
  {
   "attachments": {},
   "cell_type": "markdown",
   "metadata": {},
   "source": [
    "The below code will get some game and tabe data from the previous season which will be joined to the current round.<br>\n",
    "\n",
    "When the season begins you will need to adjust the end year to 2023"
   ]
  },
  {
   "cell_type": "code",
   "execution_count": null,
   "metadata": {},
   "outputs": [],
   "source": [
    "# Load the season data\n",
    "games = get_season_stats(start_year=2022, end_year=2023)\n",
    "\n",
    "# Load the 2022 Table data\n",
    "table_hist = get_table_hist(start_year=2022, end_year=2023)"
   ]
  },
  {
   "cell_type": "code",
   "execution_count": null,
   "metadata": {},
   "outputs": [],
   "source": [
    "try:\n",
    "    round_df = get_next_round()\n",
    "except KeyError:\n",
    "    round_df = get_next_round_bk()"
   ]
  },
  {
   "cell_type": "code",
   "execution_count": null,
   "metadata": {},
   "outputs": [],
   "source": [
    "# Create a dataframe that concats the games hist and the next round\n",
    "new_df = pd.concat([games, round_df], sort=False)"
   ]
  },
  {
   "cell_type": "code",
   "execution_count": null,
   "metadata": {},
   "outputs": [],
   "source": [
    "# Create a copy of the table\n",
    "table_hist_2 = table_hist.copy()\n",
    "\n",
    "# Clean the table data\n",
    "table_hist_2 = clean_table_data(table_hist_2)\n",
    "\n",
    "# Clean the games data and then join with the new_df\n",
    "games_clean = clean_games_data(new_df, team_code, table_hist_2)\n",
    "\n",
    "# Drop the target column\n",
    "games_clean = games_clean.drop('target', axis=1)"
   ]
  },
  {
   "attachments": {},
   "cell_type": "markdown",
   "metadata": {},
   "source": [
    "# **Select the Current Round for Prediction**"
   ]
  },
  {
   "cell_type": "code",
   "execution_count": null,
   "metadata": {},
   "outputs": [],
   "source": [
    "# Select the current round\n",
    "current_round = games_clean.loc[games_clean.isna().any(axis=1)]\n",
    "\n",
    "# Reset the index\n",
    "current_round.reset_index(inplace=True, drop=True)\n"
   ]
  },
  {
   "cell_type": "code",
   "execution_count": null,
   "metadata": {},
   "outputs": [],
   "source": [
    "current_round"
   ]
  },
  {
   "cell_type": "code",
   "execution_count": null,
   "metadata": {},
   "outputs": [],
   "source": []
  }
 ],
 "metadata": {
  "kernelspec": {
   "display_name": "Python 3",
   "language": "python",
   "name": "python3"
  },
  "language_info": {
   "codemirror_mode": {
    "name": "ipython",
    "version": 3
   },
   "file_extension": ".py",
   "mimetype": "text/x-python",
   "name": "python",
   "nbconvert_exporter": "python",
   "pygments_lexer": "ipython3",
   "version": "3.9.13"
  },
  "orig_nbformat": 4,
  "vscode": {
   "interpreter": {
    "hash": "c0b0d858025d45475d5a88bf062ad87003641f7177835e539fc583c7b5ef2bbb"
   }
  }
 },
 "nbformat": 4,
 "nbformat_minor": 2
}
